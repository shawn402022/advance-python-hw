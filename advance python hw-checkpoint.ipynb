{
 "cells": [
  {
   "cell_type": "markdown",
   "id": "48473ac6",
   "metadata": {},
   "source": [
    "# Exercise #1"
   ]
  },
  {
   "cell_type": "markdown",
   "id": "7e584177",
   "metadata": {},
   "source": [
    "\n",
    "Filter out all of the empty strings from the list below\n",
    "\n",
    "Output: ['Argentina', 'San Diego', 'Boston', 'New York']"
   ]
  },
  {
   "cell_type": "code",
   "execution_count": 6,
   "id": "3e8f85a0",
   "metadata": {},
   "outputs": [
    {
     "data": {
      "text/plain": [
       "['Argentina', 'San Diego', 'Boston', 'New York']"
      ]
     },
     "execution_count": 6,
     "metadata": {},
     "output_type": "execute_result"
    }
   ],
   "source": [
    "places = [\" \",\"Argentina\", \" \", \"San Diego\",\"\",\"  \",\"\",\"Boston\",\"New York\"]\n",
    "\n",
    "def emptyString(f,alist):\n",
    "    nPlaces = []\n",
    "    for name in alist:\n",
    "        if name.strip():\n",
    "            nPlaces.append(name)       \n",
    "    return nPlaces\n",
    "\n",
    "\n",
    "\n",
    "\n",
    "\n",
    "            \n",
    "emptyString(lambda x:True if not name.strip() else False,places)\n"
   ]
  },
  {
   "cell_type": "markdown",
   "id": "74defd99",
   "metadata": {},
   "source": [
    "# Exercise #2"
   ]
  },
  {
   "cell_type": "markdown",
   "id": "3179fae5",
   "metadata": {},
   "source": [
    "Write an anonymous function that sorts this list by the last name...\n",
    "Hint: Use the \".sort()\" method and access the key\"\n",
    "\n",
    "Output: ['Victor aNisimov', 'Gary A.J. Bernstein', 'Joel Carter', 'Andrew P. Garfield', 'David hassELHOFF']"
   ]
  },
  {
   "cell_type": "code",
   "execution_count": 33,
   "id": "77092fe4",
   "metadata": {},
   "outputs": [
    {
     "data": {
      "text/plain": [
       "\"['Victor aNisimov', 'Gary A.J. Bernstein', 'Joel Carter', 'Andrew P. Garfield', 'David hassELHOFF']\""
      ]
     },
     "execution_count": 33,
     "metadata": {},
     "output_type": "execute_result"
    }
   ],
   "source": [
    "author = [\"Joel Carter\", \"Victor aNisimov\", \"Andrew P. Garfield\",\"David hassELHOFF\",\"Gary A.J. Bernstein\"]\n",
    "\n",
    "# print(author)\n",
    "# author.sort(key = lambda x: x.split()[-1])\n",
    "# print(author)\n",
    "\n",
    "# dont forget sort has two parameters. key and reverse. \n",
    "# use lambda , split splits the elements and -1 uses the last element which ends up being the last name\n",
    "#lower() AFTER split  to dummy proof.\n",
    "def order(alist):   \n",
    "    alist.sort(key = lambda x: x.split()[-1].lower() )\n",
    "    \n",
    "    return str(alist)\n",
    "\n",
    "order(author)\n",
    "    \n",
    "\n",
    "\n",
    "\n",
    "    \n",
    "\n",
    "\n",
    "\n",
    "# print(list(((lambda f, alist: alist.sort() for key in alist,author))))\n"
   ]
  },
  {
   "cell_type": "code",
   "execution_count": null,
   "id": "67aa14ac",
   "metadata": {},
   "outputs": [],
   "source": []
  },
  {
   "cell_type": "code",
   "execution_count": null,
   "id": "dff68246",
   "metadata": {},
   "outputs": [],
   "source": []
  },
  {
   "cell_type": "markdown",
   "id": "f2ba81b8",
   "metadata": {},
   "source": [
    "# Exercise #3"
   ]
  },
  {
   "cell_type": "markdown",
   "id": "77dde75f",
   "metadata": {},
   "source": [
    "Convert the list below from Celsius to Farhenheit, using the map function with a lambda...\n",
    "\n",
    "Output: [('Nashua', 89.6), ('Boston', 53.6), ('Los Angelos', 111.2), ('Miami', 84.2)]"
   ]
  },
  {
   "cell_type": "code",
   "execution_count": 35,
   "id": "8751edf1",
   "metadata": {},
   "outputs": [
    {
     "name": "stdout",
     "output_type": "stream",
     "text": [
      "Nashua 89.6\n",
      "Boston 53.6\n",
      "Los Angelos 111.2\n",
      "Miami 84.2\n",
      "[('Nashua', 89.6), ('Boston', 53.6), ('Los Angelos', 111.2), ('Miami', 84.2)]\n"
     ]
    }
   ],
   "source": [
    "# F = (9/5)*C + 32\n",
    "#index through tuple add apply the formula\n",
    "#create new list\n",
    "\n",
    "places = [('Nashua',32),(\"Boston\",12),(\"Los Angelos\",44),(\"Miami\",29)]\n",
    "\n",
    "# for x in places:\n",
    "#     nPlaces = []\n",
    "#     print(x[-1])\n",
    "#     print((9/5) * x[-1] +32 )\n",
    "#     print(places)\n",
    "\n",
    "# def conversion(alist):\n",
    "#     nPlaces = []\n",
    "#     for x in places: \n",
    "#         nPlaces.append(x)*(9/5) + 32\n",
    "\n",
    "#     return(nPlaces)\n",
    "\n",
    "\n",
    "# conversion(places)\n",
    "\n",
    "# def conversion(alist):\n",
    "#     for x in alist:\n",
    "#         print (x[0],x[-1] *(9/5) + 32)\n",
    "#         return alist\n",
    "#         print(alist)\n",
    "    \n",
    "def conversion(alist):\n",
    "    for x in alist:\n",
    "        print (x[0],x[-1] *(9/5) + 32)\n",
    "\n",
    "\n",
    "    \n",
    "       \n",
    "\n",
    "conversion(places)\n",
    "\n",
    "print(list(map(lambda x:  (x[0],x[-1] *(9/5) + 32) ,places )))\n",
    "\n",
    "\n",
    "# conversion(places)\n"
   ]
  },
  {
   "cell_type": "markdown",
   "id": "c1158ccb",
   "metadata": {},
   "source": [
    "# Exercise #4"
   ]
  },
  {
   "cell_type": "markdown",
   "id": "e2b72cc3",
   "metadata": {},
   "source": [
    "Write a recursion function to perform the fibonacci sequence up to the number passed in."
   ]
  },
  {
   "cell_type": "code",
   "execution_count": null,
   "id": "1192ba9c",
   "metadata": {},
   "outputs": [],
   "source": [
    "Output for fib(5) => \n",
    "Iteration 0: 1\n",
    "Iteration 1: 1\n",
    "Iteration 2: 2\n",
    "Iteration 3: 3\n",
    "Iteration 4: 5\n",
    "Iteration 5: 8"
   ]
  }
 ],
 "metadata": {
  "kernelspec": {
   "display_name": "Python 3 (ipykernel)",
   "language": "python",
   "name": "python3"
  },
  "language_info": {
   "codemirror_mode": {
    "name": "ipython",
    "version": 3
   },
   "file_extension": ".py",
   "mimetype": "text/x-python",
   "name": "python",
   "nbconvert_exporter": "python",
   "pygments_lexer": "ipython3",
   "version": "3.9.12"
  }
 },
 "nbformat": 4,
 "nbformat_minor": 5
}
